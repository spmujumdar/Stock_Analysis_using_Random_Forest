{
 "cells": [
  {
   "cell_type": "markdown",
   "id": "98f6fc52",
   "metadata": {},
   "source": [
    "# Stock Price Prediction using ramdom forest\n",
    "\n",
    "In this notebook model is created using some realworld features and predictor varibales and using that trying to prediction with score above 70%.\n",
    "For this we are using random forest algorith from scikit-learn library"
   ]
  },
  {
   "cell_type": "code",
   "execution_count": 1,
   "id": "ceafc21d",
   "metadata": {},
   "outputs": [
    {
     "name": "stdout",
     "output_type": "stream",
     "text": [
      "Requirement already satisfied: yfinance in /Users/sushrutmujumdar/opt/anaconda3/lib/python3.9/site-packages (0.1.70)\n",
      "Requirement already satisfied: requests>=2.26 in /Users/sushrutmujumdar/opt/anaconda3/lib/python3.9/site-packages (from yfinance) (2.26.0)\n",
      "Requirement already satisfied: numpy>=1.15 in /Users/sushrutmujumdar/opt/anaconda3/lib/python3.9/site-packages (from yfinance) (1.20.3)\n",
      "Requirement already satisfied: multitasking>=0.0.7 in /Users/sushrutmujumdar/opt/anaconda3/lib/python3.9/site-packages (from yfinance) (0.0.10)\n",
      "Requirement already satisfied: lxml>=4.5.1 in /Users/sushrutmujumdar/opt/anaconda3/lib/python3.9/site-packages (from yfinance) (4.6.3)\n",
      "Requirement already satisfied: pandas>=0.24.0 in /Users/sushrutmujumdar/opt/anaconda3/lib/python3.9/site-packages (from yfinance) (1.3.4)\n",
      "Requirement already satisfied: python-dateutil>=2.7.3 in /Users/sushrutmujumdar/opt/anaconda3/lib/python3.9/site-packages (from pandas>=0.24.0->yfinance) (2.8.2)\n",
      "Requirement already satisfied: pytz>=2017.3 in /Users/sushrutmujumdar/opt/anaconda3/lib/python3.9/site-packages (from pandas>=0.24.0->yfinance) (2021.3)\n",
      "Requirement already satisfied: six>=1.5 in /Users/sushrutmujumdar/opt/anaconda3/lib/python3.9/site-packages (from python-dateutil>=2.7.3->pandas>=0.24.0->yfinance) (1.16.0)\n",
      "Requirement already satisfied: certifi>=2017.4.17 in /Users/sushrutmujumdar/opt/anaconda3/lib/python3.9/site-packages (from requests>=2.26->yfinance) (2021.10.8)\n",
      "Requirement already satisfied: charset-normalizer~=2.0.0 in /Users/sushrutmujumdar/opt/anaconda3/lib/python3.9/site-packages (from requests>=2.26->yfinance) (2.0.4)\n",
      "Requirement already satisfied: urllib3<1.27,>=1.21.1 in /Users/sushrutmujumdar/opt/anaconda3/lib/python3.9/site-packages (from requests>=2.26->yfinance) (1.26.7)\n",
      "Requirement already satisfied: idna<4,>=2.5 in /Users/sushrutmujumdar/opt/anaconda3/lib/python3.9/site-packages (from requests>=2.26->yfinance) (3.2)\n",
      "Note: you may need to restart the kernel to use updated packages.\n"
     ]
    }
   ],
   "source": [
    "pip install yfinance"
   ]
  },
  {
   "cell_type": "code",
   "execution_count": 2,
   "id": "cc4841f5",
   "metadata": {},
   "outputs": [],
   "source": [
    "import yfinance as yf\n",
    "import numpy as np\n",
    "from sklearn.ensemble import RandomForestClassifier"
   ]
  },
  {
   "cell_type": "markdown",
   "id": "b6246655",
   "metadata": {},
   "source": [
    "Using the Yahoo finance website 10 yr share data is collected and used."
   ]
  },
  {
   "cell_type": "markdown",
   "id": "b8680a41",
   "metadata": {},
   "source": [
    "# Stock Name - JP Morgan"
   ]
  },
  {
   "cell_type": "code",
   "execution_count": 3,
   "id": "77db4339",
   "metadata": {},
   "outputs": [
    {
     "name": "stdout",
     "output_type": "stream",
     "text": [
      "[*********************100%***********************]  1 of 1 completed\n",
      "                  Open        High         Low       Close   Adj Close  \\\n",
      "Date                                                                     \n",
      "2021-10-04  166.970001  170.440002  165.729996  166.949997  164.961197   \n",
      "2021-10-05  167.210007  170.139999  166.669998  168.660004  167.655060   \n",
      "2021-10-06  167.990005  169.100006  166.000000  169.020004  168.012909   \n",
      "2021-10-07  171.199997  171.509995  169.539993  170.089996  169.076523   \n",
      "2021-10-08  170.020004  171.339996  169.300003  170.220001  169.205750   \n",
      "\n",
      "              Volume  \n",
      "Date                  \n",
      "2021-10-04  14120000  \n",
      "2021-10-05  12292900  \n",
      "2021-10-06   8692600  \n",
      "2021-10-07  10195400  \n",
      "2021-10-08   8188800  \n"
     ]
    }
   ],
   "source": [
    "ticker= \"jpm\"\n",
    "data = yf.download(ticker, start=\"2011-10-12\", end=\"2021-10-11\")\n",
    "print(data.tail())"
   ]
  },
  {
   "cell_type": "markdown",
   "id": "8f77b009",
   "metadata": {},
   "source": [
    "# Feature constructions or predictor variables"
   ]
  },
  {
   "cell_type": "markdown",
   "id": "e43432b0",
   "metadata": {},
   "source": [
    "# Stochastic Oscillator (%K)\n",
    "A stochastic oscillator is a momentum indicator comparing a particular closing price of a security to a range of its prices over a certain period of time. The sensitivity of the oscillator to market movements is reducible by adjusting that time period or by taking a moving average of the result. It is used to generate overbought and oversold trading signals, utilizing a 0–100 bounded range of values.\n",
    "\n",
    "\t  \n",
    "%K=((C−L14)/(H14−L14))×100\n",
    "\n",
    "where:\n",
    "C = The most recent closing price\n",
    "L14 = The lowest price traded of the 14 previous trading sessions\n",
    "H14 = The highest price traded during the same\n",
    "14-day period\n",
    "%K = The current value of the stochastic indicator"
   ]
  },
  {
   "cell_type": "code",
   "execution_count": 4,
   "id": "bbececff",
   "metadata": {},
   "outputs": [],
   "source": [
    "# Stochastic Oscillator\n",
    "h14= data['High'].rolling(14).max()\n",
    "l14 = data['Low'].rolling(14).min()\n",
    "data['%K'] = (data['Close'] - l14)*100/(h14 - l14)"
   ]
  },
  {
   "cell_type": "markdown",
   "id": "8a692b9d",
   "metadata": {},
   "source": [
    "# Relative Strength Index (RSI)\n",
    "The relative strength index (RSI) is a momentum indicator used in technical analysis that measures the magnitude of recent price changes to evaluate overbought or oversold conditions in the price of a stock or other asset. The RSI is displayed as an oscillator (a line graph that moves between two extremes) and can have a reading from 0 to 100. "
   ]
  },
  {
   "cell_type": "code",
   "execution_count": 5,
   "id": "d3b9dae8",
   "metadata": {},
   "outputs": [],
   "source": [
    "# Calculate RSI\n",
    "delta = data['Close'].diff()\n",
    "up = delta.clip(lower=0)\n",
    "down = -1*delta.clip(upper=0)\n",
    "ema_up = up.ewm(com=13, adjust=False).mean()\n",
    "ema_down = down.ewm(com=13, adjust=False).mean()\n",
    "rs = ema_up/ema_down\n",
    "data['RSI'] = 100 - (100/(1 + rs))"
   ]
  },
  {
   "cell_type": "markdown",
   "id": "dc1de7e2",
   "metadata": {},
   "source": [
    "# Moving Average (MA) & Moving Average Convergence Divergence (MACD)\n",
    "\n",
    "In statistics, a moving average is a calculation used to analyze data points by creating a series of averages of different subsets of the full data set. In finance, a moving average (MA) is a stock indicator that is commonly used in technical analysis. The reason for calculating the moving average of a stock is to help smooth out the price data by creating a constantly updated average price.\n",
    "\n",
    "Moving average convergence divergence (MACD) is a trend-following momentum indicator that shows the relationship between two moving averages of a security’s price. The MACD is calculated by subtracting the 26-period exponential moving average (EMA) from the 12-period EMA.\n",
    "\n",
    "Formula :\n",
    "MACD = 12 Period EMA − 26 Period EMA"
   ]
  },
  {
   "cell_type": "code",
   "execution_count": 6,
   "id": "ee851a23",
   "metadata": {},
   "outputs": [],
   "source": [
    "# Calculate the MACD signal\n",
    "exp1 = data['Close'].ewm(span=12).mean()\n",
    "exp2 = data['Close'].ewm(span=26).mean()\n",
    "macd = exp1 - exp2\n",
    "macd_signal = macd.ewm(span=9).mean()\n",
    "data['MACD'] = macd_signal - macd"
   ]
  },
  {
   "cell_type": "markdown",
   "id": "91d463eb",
   "metadata": {},
   "source": [
    "# Williams Percentage Range (%R)\n",
    "Williams is a type of momentum indicator that moves between 0 and -100 and measures overbought and oversold levels. The Williams %R may be used to find entry and exit points in the market. The indicator is very similar to the Stochastic oscillator and is used in the same way. It was developed by Larry Williams and it compares a stock’s closing price to the high-low range over a specific period, typically 14 days or periods.\n",
    "\n",
    "R= Highest High−Lowest Low / Highest High−Close\n",
    " \n",
    "\n",
    "Highest High=Highest price in the lookback period, typically 14 days.\n",
    "Close=Most recent closing price.\n",
    "Lowest Low=Lowest price in the lookback period, typically 14 days.\t"
   ]
  },
  {
   "cell_type": "code",
   "execution_count": 7,
   "id": "41927f40",
   "metadata": {},
   "outputs": [],
   "source": [
    "# Williams Percentage Range\n",
    "data['%R'] = -100*(h14 - data['Close'])/(h14 - l14)"
   ]
  },
  {
   "cell_type": "markdown",
   "id": "c730277a",
   "metadata": {},
   "source": [
    "# Price Rate Of Change (ROC) Indicator\n",
    "The Price Rate of Change (ROC) is a momentum-based technical indicator that measures the percentage change in price between the current price and the price a certain number of periods ago. The ROC indicator is plotted against zero, with the indicator moving upwards into positive territory if price changes are to the upside, and moving into negative territory if price changes are to the downside.\n",
    "\n",
    "This indicator used to plot divergence."
   ]
  },
  {
   "cell_type": "code",
   "execution_count": 8,
   "id": "490bf267",
   "metadata": {},
   "outputs": [],
   "source": [
    "# Price Rate of Change\n",
    "days = 5\n",
    "ct_n = data['Close'].shift(days)\n",
    "data['PROC'] = (data['Close'] - ct_n)/ct_n"
   ]
  },
  {
   "cell_type": "code",
   "execution_count": 9,
   "id": "fab2d3d5",
   "metadata": {},
   "outputs": [],
   "source": [
    "# Set class labels to classify\n",
    "data['Return'] = data['Close'].pct_change(1).shift(-1)\n",
    "data['class'] = np.where(data['Return'] > 0, 1, 0)"
   ]
  },
  {
   "cell_type": "markdown",
   "id": "cee433df",
   "metadata": {},
   "source": [
    "# Input & Output dataset\n",
    "Using the dropna a panda library to remove the missing values as a data clean operation."
   ]
  },
  {
   "cell_type": "code",
   "execution_count": 10,
   "id": "2f3a91f4",
   "metadata": {},
   "outputs": [],
   "source": [
    "data.dropna(inplace=True)\n",
    "\n",
    "# X is the input variable\n",
    "X = data[['%K','RSI','%R','PROC','class','Return']]\n",
    "\n",
    "# Y is the target or output variable\n",
    "y = np.where(data['MACD'].shift(-1) > data['MACD'], 1, -1)"
   ]
  },
  {
   "cell_type": "markdown",
   "id": "5e118cd0",
   "metadata": {},
   "source": [
    "Checking the data srt lenth and splitting data into 75% training data and rest 25% as test data"
   ]
  },
  {
   "cell_type": "code",
   "execution_count": 11,
   "id": "35fd8844",
   "metadata": {},
   "outputs": [
    {
     "data": {
      "text/plain": [
       "1750"
      ]
     },
     "execution_count": 11,
     "metadata": {},
     "output_type": "execute_result"
    }
   ],
   "source": [
    "dataset_length = data.shape[0]\n",
    "split = int(dataset_length * 0.70)\n",
    "split"
   ]
  },
  {
   "cell_type": "code",
   "execution_count": 12,
   "id": "d5a1c734",
   "metadata": {},
   "outputs": [
    {
     "name": "stdout",
     "output_type": "stream",
     "text": [
      "(1750, 6) (751, 6)\n",
      "(1750,) (751,)\n"
     ]
    }
   ],
   "source": [
    "# Splitiing the X and y into train and test datasets\n",
    "X_train, X_test = X[:split], X[split:]\n",
    "y_train, y_test = y[:split], y[split:]\n",
    "\n",
    "# Print the size of the train and test dataset\n",
    "print(X_train.shape, X_test.shape)\n",
    "print(y_train.shape, y_test.shape)"
   ]
  },
  {
   "cell_type": "markdown",
   "id": "f094cecb",
   "metadata": {},
   "source": [
    "# Training ML model using Random Forest"
   ]
  },
  {
   "cell_type": "code",
   "execution_count": 13,
   "id": "5f47b299",
   "metadata": {},
   "outputs": [],
   "source": [
    "clf = RandomForestClassifier(random_state=5)"
   ]
  },
  {
   "cell_type": "code",
   "execution_count": 14,
   "id": "9407de0e",
   "metadata": {},
   "outputs": [],
   "source": [
    "# Create the model on train dataset\n",
    "model = clf.fit(X_train, y_train)"
   ]
  },
  {
   "cell_type": "code",
   "execution_count": 15,
   "id": "4d747db3",
   "metadata": {},
   "outputs": [
    {
     "name": "stdout",
     "output_type": "stream",
     "text": [
      "Prediction :  0.8149134487350199\n",
      "Correct Prediction (%):  81.49134487350199\n"
     ]
    }
   ],
   "source": [
    "from sklearn.metrics import accuracy_score\n",
    "print('Prediction : ', accuracy_score(y_test, model.predict(X_test), normalize=True))\n",
    "print('Correct Prediction (%): ', accuracy_score(y_test, model.predict(X_test), normalize=True)*100.0)"
   ]
  },
  {
   "cell_type": "markdown",
   "id": "cb73f871",
   "metadata": {},
   "source": [
    "# Verification / Data representation"
   ]
  },
  {
   "cell_type": "code",
   "execution_count": 16,
   "id": "776661cf",
   "metadata": {},
   "outputs": [
    {
     "name": "stdout",
     "output_type": "stream",
     "text": [
      "              precision    recall  f1-score   support\n",
      "\n",
      "          -1       0.84      0.78      0.81       374\n",
      "           1       0.79      0.85      0.82       377\n",
      "\n",
      "    accuracy                           0.81       751\n",
      "   macro avg       0.82      0.81      0.81       751\n",
      "weighted avg       0.82      0.81      0.81       751\n",
      "\n"
     ]
    }
   ],
   "source": [
    "# Report metrics (Classification)\n",
    "from sklearn.metrics import classification_report\n",
    "report = classification_report(y_test, model.predict(X_test))\n",
    "print(report)"
   ]
  },
  {
   "cell_type": "code",
   "execution_count": 17,
   "id": "cdd55088",
   "metadata": {},
   "outputs": [],
   "source": [
    "data['strategy'] = data.MACD.shift(-1) * model.predict(X)"
   ]
  },
  {
   "cell_type": "code",
   "execution_count": 18,
   "id": "daa26520",
   "metadata": {},
   "outputs": [
    {
     "name": "stderr",
     "output_type": "stream",
     "text": [
      "Matplotlib is building the font cache; this may take a moment.\n"
     ]
    },
    {
     "data": {
      "image/png": "[encoded data removed]",
      "text/plain": [
       "<Figure size 432x288 with 1 Axes>"
      ]
     },
     "metadata": {
      "needs_background": "light"
     },
     "output_type": "display_data"
    }
   ],
   "source": [
    "%matplotlib inline\n",
    "import matplotlib.pyplot as plt\n",
    "data.strategy[split:].hist()\n",
    "plt.xlabel('Strategy (%)')\n",
    "plt.show()"
   ]
  },
  {
   "cell_type": "code",
   "execution_count": 19,
   "id": "fbf3870d",
   "metadata": {},
   "outputs": [
    {
     "data": {
      "image/png": "[encoded data removed]",
      "text/plain": [
       "<Figure size 432x288 with 1 Axes>"
      ]
     },
     "metadata": {
      "needs_background": "light"
     },
     "output_type": "display_data"
    }
   ],
   "source": [
    "(data.strategy[split:]+1).cumprod().plot()\n",
    "plt.ylabel('Strategy (%)')\n",
    "plt.show()"
   ]
  },
  {
   "cell_type": "markdown",
   "id": "fc6e22cf",
   "metadata": {},
   "source": [
    "# Note : \n",
    "To build various feature constructions or predictor variables, intevstopedia website is used as a refenc\n",
    "* Stochastic Oscillator - https://www.investopedia.com/terms/s/stochasticoscillator.asp\n",
    "* Relative Strength Index - https://www.investopedia.com/terms/r/rsi.asp\n",
    "* Moving Average Convergence Divergence - https://www.investopedia.com/terms/m/macd.asp\n",
    "* Williams Percentage Range - https://www.investopedia.com/terms/w/williamsr.asp\n",
    "* Price Rate Of Change - https://www.investopedia.com/terms/p/pricerateofchange.asp"
   ]
  },
  {
   "cell_type": "markdown",
   "id": "c4b393ee",
   "metadata": {},
   "source": [
    "# Stock Name - Berkshire Hathaway (Class A)"
   ]
  },
  {
   "cell_type": "code",
   "execution_count": 20,
   "id": "08006d71",
   "metadata": {},
   "outputs": [
    {
     "name": "stdout",
     "output_type": "stream",
     "text": [
      "[*********************100%***********************]  1 of 1 completed\n",
      "                Open      High       Low     Close  Adj Close  Volume\n",
      "Date                                                                 \n",
      "2021-10-04  415146.0  416804.0  411286.0  412540.0   412540.0      14\n",
      "2021-10-05  413313.0  420959.0  411659.0  418539.0   418539.0       9\n",
      "2021-10-06  416406.0  421900.0  413662.0  421900.0   421900.0      11\n",
      "2021-10-07  424999.0  428655.0  423516.0  425431.0   425431.0      12\n",
      "2021-10-08  425643.0  428479.0  424000.0  427765.0   427765.0      13\n"
     ]
    }
   ],
   "source": [
    "ticker= \"BRK-A\"\n",
    "data = yf.download(ticker, start=\"2011-10-12\", end=\"2021-10-11\")\n",
    "print(data.tail())"
   ]
  },
  {
   "cell_type": "code",
   "execution_count": 21,
   "id": "c771dda2",
   "metadata": {},
   "outputs": [],
   "source": [
    "# Stochastic Oscillator\n",
    "h14= data['High'].rolling(14).max()\n",
    "l14 = data['Low'].rolling(14).min()\n",
    "data['%K'] = (data['Close'] - l14)*100/(h14 - l14)\n",
    "\n",
    "# Calculate RSI\n",
    "delta = data['Close'].diff()\n",
    "up = delta.clip(lower=0)\n",
    "down = -1*delta.clip(upper=0)\n",
    "ema_up = up.ewm(com=13, adjust=False).mean()\n",
    "ema_down = down.ewm(com=13, adjust=False).mean()\n",
    "rs = ema_up/ema_down\n",
    "data['RSI'] = 100 - (100/(1 + rs))\n",
    "\n",
    "# Calculate the MACD signal\n",
    "exp1 = data['Close'].ewm(span=12).mean()\n",
    "exp2 = data['Close'].ewm(span=26).mean()\n",
    "macd = exp1 - exp2\n",
    "macd_signal = macd.ewm(span=9).mean()\n",
    "data['MACD'] = macd_signal - macd\n",
    "\n",
    "#Williams Percentage Range\n",
    "data['%R'] = -100*(h14 - data['Close'])/(h14 - l14)\n",
    "\n",
    "# Price Rate of Change\n",
    "days = 5\n",
    "ct_n = data['Close'].shift(days)\n",
    "data['PROC'] = (data['Close'] - ct_n)/ct_n\n",
    "\n",
    "# Set class labels to classify\n",
    "data['Return'] = data['Close'].pct_change(1).shift(-1)\n",
    "data['class'] = np.where(data['Return'] > 0, 1, 0)"
   ]
  },
  {
   "cell_type": "code",
   "execution_count": 22,
   "id": "b5e92a2c",
   "metadata": {},
   "outputs": [
    {
     "name": "stdout",
     "output_type": "stream",
     "text": [
      "(1750, 6) (751, 6)\n",
      "(1750,) (751,)\n"
     ]
    }
   ],
   "source": [
    "data.dropna(inplace=True)\n",
    "\n",
    "# X is the input variable\n",
    "X = data[['%K','RSI','%R','PROC','class','Return']]\n",
    "\n",
    "# Y is the target or output variable\n",
    "y = np.where(data['MACD'].shift(-1) > data['MACD'], 1, -1)\n",
    "\n",
    "dataset_length = data.shape[0]\n",
    "split = int(dataset_length * 0.70)\n",
    "split\n",
    "\n",
    "# Splitiing the X and y into train and test datasets\n",
    "X_train, X_test = X[:split], X[split:]\n",
    "y_train, y_test = y[:split], y[split:]\n",
    "\n",
    "# Print the size of the train and test dataset\n",
    "print(X_train.shape, X_test.shape)\n",
    "print(y_train.shape, y_test.shape)"
   ]
  },
  {
   "cell_type": "code",
   "execution_count": 23,
   "id": "7e0a773e",
   "metadata": {},
   "outputs": [
    {
     "name": "stdout",
     "output_type": "stream",
     "text": [
      "Prediction :  0.7736351531291611\n",
      "Correct Prediction (%):  77.3635153129161\n"
     ]
    }
   ],
   "source": [
    "clf = RandomForestClassifier(random_state=5)\n",
    "\n",
    "# Create the model on train dataset\n",
    "model = clf.fit(X_train, y_train)\n",
    "\n",
    "from sklearn.metrics import accuracy_score\n",
    "print('Prediction : ', accuracy_score(y_test, model.predict(X_test), normalize=True))\n",
    "print('Correct Prediction (%): ', accuracy_score(y_test, model.predict(X_test), normalize=True)*100.0)"
   ]
  },
  {
   "cell_type": "code",
   "execution_count": 24,
   "id": "fe667c6a",
   "metadata": {},
   "outputs": [
    {
     "name": "stdout",
     "output_type": "stream",
     "text": [
      "              precision    recall  f1-score   support\n",
      "\n",
      "          -1       0.77      0.81      0.78       385\n",
      "           1       0.78      0.74      0.76       366\n",
      "\n",
      "    accuracy                           0.77       751\n",
      "   macro avg       0.77      0.77      0.77       751\n",
      "weighted avg       0.77      0.77      0.77       751\n",
      "\n"
     ]
    },
    {
     "data": {
      "image/png": "[encoded data removed]",
      "text/plain": [
       "<Figure size 432x288 with 1 Axes>"
      ]
     },
     "metadata": {
      "needs_background": "light"
     },
     "output_type": "display_data"
    },
    {
     "name": "stderr",
     "output_type": "stream",
     "text": [
      "/Users/sushrutmujumdar/opt/anaconda3/lib/python3.9/site-packages/matplotlib/axes/_base.py:2740: RuntimeWarning: overflow encountered in double_scalars\n",
      "  x0, x1 = inverse_trans.transform([x0t - delta, x1t + delta])\n"
     ]
    },
    {
     "data": {
      "image/png": "[encoded data removed]",
      "text/plain": [
       "<Figure size 432x288 with 1 Axes>"
      ]
     },
     "metadata": {
      "needs_background": "light"
     },
     "output_type": "display_data"
    }
   ],
   "source": [
    "# Report metrics (Classification)\n",
    "from sklearn.metrics import classification_report\n",
    "report = classification_report(y_test, model.predict(X_test))\n",
    "print(report)\n",
    "\n",
    "data['strategy'] = data.MACD.shift(-1) * model.predict(X)\n",
    "\n",
    "%matplotlib inline\n",
    "import matplotlib.pyplot as plt\n",
    "data.strategy[split:].hist()\n",
    "plt.xlabel('Strategy (%)')\n",
    "plt.show()\n",
    "\n",
    "(data.strategy[split:]+1).cumprod().plot()\n",
    "plt.ylabel('Strategy (%)')\n",
    "plt.show()"
   ]
  },
  {
   "cell_type": "markdown",
   "id": "a9ab5d24",
   "metadata": {},
   "source": [
    "# Stock Name - Morgan Stanley"
   ]
  },
  {
   "cell_type": "code",
   "execution_count": 25,
   "id": "1fdd9c4c",
   "metadata": {},
   "outputs": [
    {
     "name": "stdout",
     "output_type": "stream",
     "text": [
      "[*********************100%***********************]  1 of 1 completed\n",
      "                  Open        High        Low       Close  Adj Close   Volume\n",
      "Date                                                                         \n",
      "2021-10-04   99.050003  100.510002  96.970001   97.150002  95.814735  9482100\n",
      "2021-10-05   98.220001   99.730003  97.470001   99.199997  97.836555  8850300\n",
      "2021-10-06   98.220001   99.459999  97.220001   99.099998  97.737930  6912700\n",
      "2021-10-07  100.559998  100.919998  98.690002   98.800003  97.442055  7959600\n",
      "2021-10-08   99.019997  100.690002  98.389999  100.040001  98.665016  5300300\n"
     ]
    }
   ],
   "source": [
    "ticker= \"MS\"\n",
    "data = yf.download(ticker, start=\"2011-10-12\", end=\"2021-10-11\")\n",
    "print(data.tail())"
   ]
  },
  {
   "cell_type": "code",
   "execution_count": 26,
   "id": "f4737ad7",
   "metadata": {},
   "outputs": [],
   "source": [
    "# Stochastic Oscillator\n",
    "h14= data['High'].rolling(14).max()\n",
    "l14 = data['Low'].rolling(14).min()\n",
    "data['%K'] = (data['Close'] - l14)*100/(h14 - l14)\n",
    "\n",
    "# Calculate RSI\n",
    "delta = data['Close'].diff()\n",
    "up = delta.clip(lower=0)\n",
    "down = -1*delta.clip(upper=0)\n",
    "ema_up = up.ewm(com=13, adjust=False).mean()\n",
    "ema_down = down.ewm(com=13, adjust=False).mean()\n",
    "rs = ema_up/ema_down\n",
    "data['RSI'] = 100 - (100/(1 + rs))\n",
    "\n",
    "# Calculate the MACD signal\n",
    "exp1 = data['Close'].ewm(span=12).mean()\n",
    "exp2 = data['Close'].ewm(span=26).mean()\n",
    "macd = exp1 - exp2\n",
    "macd_signal = macd.ewm(span=9).mean()\n",
    "data['MACD'] = macd_signal - macd\n",
    "\n",
    "#Williams Percentage Range\n",
    "data['%R'] = -100*(h14 - data['Close'])/(h14 - l14)\n",
    "\n",
    "# Price Rate of Change\n",
    "days = 5\n",
    "ct_n = data['Close'].shift(days)\n",
    "data['PROC'] = (data['Close'] - ct_n)/ct_n\n",
    "\n",
    "# Set class labels to classify\n",
    "data['Return'] = data['Close'].pct_change(1).shift(-1)\n",
    "data['class'] = np.where(data['Return'] > 0, 1, 0)"
   ]
  },
  {
   "cell_type": "code",
   "execution_count": 27,
   "id": "9fb2a6fe",
   "metadata": {},
   "outputs": [
    {
     "name": "stdout",
     "output_type": "stream",
     "text": [
      "(1750, 6) (751, 6)\n",
      "(1750,) (751,)\n"
     ]
    }
   ],
   "source": [
    "data.dropna(inplace=True)\n",
    "\n",
    "# X is the input variable\n",
    "X = data[['%K','RSI','%R','PROC','class','Return']]\n",
    "\n",
    "# Y is the target or output variable\n",
    "y = np.where(data['MACD'].shift(-1) > data['MACD'], 1, -1)\n",
    "\n",
    "dataset_length = data.shape[0]\n",
    "split = int(dataset_length * 0.70)\n",
    "split\n",
    "\n",
    "# Splitiing the X and y into train and test datasets\n",
    "X_train, X_test = X[:split], X[split:]\n",
    "y_train, y_test = y[:split], y[split:]\n",
    "\n",
    "# Print the size of the train and test dataset\n",
    "print(X_train.shape, X_test.shape)\n",
    "print(y_train.shape, y_test.shape)"
   ]
  },
  {
   "cell_type": "code",
   "execution_count": 28,
   "id": "174dc5c1",
   "metadata": {},
   "outputs": [
    {
     "name": "stdout",
     "output_type": "stream",
     "text": [
      "Prediction :  0.7989347536617842\n",
      "Correct Prediction (%):  79.89347536617842\n"
     ]
    }
   ],
   "source": [
    "clf = RandomForestClassifier(random_state=5)\n",
    "\n",
    "# Create the model on train dataset\n",
    "model = clf.fit(X_train, y_train)\n",
    "\n",
    "from sklearn.metrics import accuracy_score\n",
    "print('Prediction : ', accuracy_score(y_test, model.predict(X_test), normalize=True))\n",
    "print('Correct Prediction (%): ', accuracy_score(y_test, model.predict(X_test), normalize=True)*100.0)"
   ]
  },
  {
   "cell_type": "code",
   "execution_count": 29,
   "id": "a81dfbf7",
   "metadata": {},
   "outputs": [
    {
     "name": "stdout",
     "output_type": "stream",
     "text": [
      "              precision    recall  f1-score   support\n",
      "\n",
      "          -1       0.80      0.80      0.80       370\n",
      "           1       0.80      0.80      0.80       381\n",
      "\n",
      "    accuracy                           0.80       751\n",
      "   macro avg       0.80      0.80      0.80       751\n",
      "weighted avg       0.80      0.80      0.80       751\n",
      "\n"
     ]
    },
    {
     "data": {
      "image/png": "[encoded data removed]",
      "text/plain": [
       "<Figure size 432x288 with 1 Axes>"
      ]
     },
     "metadata": {
      "needs_background": "light"
     },
     "output_type": "display_data"
    },
    {
     "data": {
      "image/png": "[encoded data removed]",
      "text/plain": [
       "<Figure size 432x288 with 1 Axes>"
      ]
     },
     "metadata": {
      "needs_background": "light"
     },
     "output_type": "display_data"
    }
   ],
   "source": [
    "# Report metrics (Classification)\n",
    "from sklearn.metrics import classification_report\n",
    "report = classification_report(y_test, model.predict(X_test))\n",
    "print(report)\n",
    "\n",
    "data['strategy'] = data.MACD.shift(-1) * model.predict(X)\n",
    "\n",
    "%matplotlib inline\n",
    "import matplotlib.pyplot as plt\n",
    "data.strategy[split:].hist()\n",
    "plt.xlabel('Strategy (%)')\n",
    "plt.show()\n",
    "\n",
    "(data.strategy[split:]+1).cumprod().plot()\n",
    "plt.ylabel('Strategy (%)')\n",
    "plt.show()"
   ]
  }
 ],
 "metadata": {
  "kernelspec": {
   "display_name": "Python 3 (ipykernel)",
   "language": "python",
   "name": "python3"
  },
  "language_info": {
   "codemirror_mode": {
    "name": "ipython",
    "version": 3
   },
   "file_extension": ".py",
   "mimetype": "text/x-python",
   "name": "python",
   "nbconvert_exporter": "python",
   "pygments_lexer": "ipython3",
   "version": "3.9.7"
  }
 },
 "nbformat": 4,
 "nbformat_minor": 5
}
